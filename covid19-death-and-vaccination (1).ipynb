{
 "cells": [
  {
   "cell_type": "markdown",
   "id": "1563f9ab",
   "metadata": {
    "papermill": {
     "duration": 0.006275,
     "end_time": "2023-01-16T17:59:03.464762",
     "exception": false,
     "start_time": "2023-01-16T17:59:03.458487",
     "status": "completed"
    },
    "tags": []
   },
   "source": [
    "Marjan Abbasi\n",
    "2022_12_20\n",
    "Covid_19 data "
   ]
  },
  {
   "cell_type": "markdown",
   "id": "f6546e92",
   "metadata": {
    "papermill": {
     "duration": 0.006257,
     "end_time": "2023-01-16T17:59:03.477109",
     "exception": false,
     "start_time": "2023-01-16T17:59:03.470852",
     "status": "completed"
    },
    "tags": []
   },
   "source": [
    "Dataset : https://ourworldindata.org/covid-deaths\n",
    "\n",
    "Data collection date: 2020-01-01 to 2022-12-12"
   ]
  },
  {
   "cell_type": "markdown",
   "id": "0be4c1af",
   "metadata": {
    "papermill": {
     "duration": 0.004872,
     "end_time": "2023-01-16T17:59:03.487362",
     "exception": false,
     "start_time": "2023-01-16T17:59:03.482490",
     "status": "completed"
    },
    "tags": []
   },
   "source": [
    "SQL was used to analyse the data "
   ]
  },
  {
   "cell_type": "code",
   "execution_count": 1,
   "id": "400866d2",
   "metadata": {
    "execution": {
     "iopub.execute_input": "2023-01-16T17:59:03.501134Z",
     "iopub.status.busy": "2023-01-16T17:59:03.500414Z",
     "iopub.status.idle": "2023-01-16T17:59:05.100408Z",
     "shell.execute_reply": "2023-01-16T17:59:05.098481Z"
    },
    "papermill": {
     "duration": 1.612357,
     "end_time": "2023-01-16T17:59:05.104880",
     "exception": false,
     "start_time": "2023-01-16T17:59:03.492523",
     "status": "completed"
    },
    "tags": []
   },
   "outputs": [],
   "source": [
    "import numpy as np\n",
    "import pandas as pd\n",
    "import sqlite3 as sql\n",
    "import plotly.express as px\n",
    "import os"
   ]
  },
  {
   "cell_type": "code",
   "execution_count": 2,
   "id": "5799f0e8",
   "metadata": {
    "execution": {
     "iopub.execute_input": "2023-01-16T17:59:05.126090Z",
     "iopub.status.busy": "2023-01-16T17:59:05.125610Z",
     "iopub.status.idle": "2023-01-16T17:59:05.131523Z",
     "shell.execute_reply": "2023-01-16T17:59:05.130173Z"
    },
    "papermill": {
     "duration": 0.015805,
     "end_time": "2023-01-16T17:59:05.134223",
     "exception": false,
     "start_time": "2023-01-16T17:59:05.118418",
     "status": "completed"
    },
    "tags": []
   },
   "outputs": [],
   "source": [
    "# connect to SQL database\n",
    "db_path = '../input/coviddata/owid-covid-data.csv.sqlite'\n"
   ]
  },
  {
   "cell_type": "code",
   "execution_count": 3,
   "id": "cc8c0159",
   "metadata": {
    "execution": {
     "iopub.execute_input": "2023-01-16T17:59:05.147104Z",
     "iopub.status.busy": "2023-01-16T17:59:05.146608Z",
     "iopub.status.idle": "2023-01-16T17:59:05.152318Z",
     "shell.execute_reply": "2023-01-16T17:59:05.151085Z"
    },
    "papermill": {
     "duration": 0.015647,
     "end_time": "2023-01-16T17:59:05.155230",
     "exception": false,
     "start_time": "2023-01-16T17:59:05.139583",
     "status": "completed"
    },
    "tags": []
   },
   "outputs": [],
   "source": [
    " #Select the data that I am going to work with\n",
    "    \n",
    "query = \"\"\"\n",
    "SELECT \n",
    "location, date, total_cases, new_cases, total_deaths,total_vaccinations, population \n",
    "FROM Covid19.Covid_death \n",
    "WHERE continent is not NULL ORDER BY 1,2;\n",
    "\"\"\""
   ]
  },
  {
   "cell_type": "code",
   "execution_count": 4,
   "id": "f7757e54",
   "metadata": {
    "execution": {
     "iopub.execute_input": "2023-01-16T17:59:05.169501Z",
     "iopub.status.busy": "2023-01-16T17:59:05.168668Z",
     "iopub.status.idle": "2023-01-16T17:59:05.173478Z",
     "shell.execute_reply": "2023-01-16T17:59:05.172527Z"
    },
    "papermill": {
     "duration": 0.014921,
     "end_time": "2023-01-16T17:59:05.175903",
     "exception": false,
     "start_time": "2023-01-16T17:59:05.160982",
     "status": "completed"
    },
    "tags": []
   },
   "outputs": [],
   "source": [
    "# Total case in the world\n",
    "\n",
    "query = \"\"\"\n",
    "SELECT location, total_cases \n",
    "FROM Covid19.Covid_death \n",
    "WHERE location = \"World\" AND total_cases = (SELECT MAX(total_cases) From Covid19.Covid_death) GROUP BY location, total_cases \n",
    "\"\"\""
   ]
  },
  {
   "cell_type": "code",
   "execution_count": 5,
   "id": "669be497",
   "metadata": {
    "execution": {
     "iopub.execute_input": "2023-01-16T17:59:05.189002Z",
     "iopub.status.busy": "2023-01-16T17:59:05.188307Z",
     "iopub.status.idle": "2023-01-16T17:59:05.192827Z",
     "shell.execute_reply": "2023-01-16T17:59:05.191872Z"
    },
    "papermill": {
     "duration": 0.013973,
     "end_time": "2023-01-16T17:59:05.195279",
     "exception": false,
     "start_time": "2023-01-16T17:59:05.181306",
     "status": "completed"
    },
    "tags": []
   },
   "outputs": [],
   "source": [
    "# Total death in the world \n",
    "\n",
    "query = \"\"\"\n",
    "SELECT location, total_deaths FR\n",
    "OM Covid19.Covid_death \n",
    "WHERE location = \"World\" AND total_deaths = (SELECT MAX(total_deaths) From Covid19.Covid_death) GROUP BY location, total_deaths\n",
    "\"\"\""
   ]
  },
  {
   "cell_type": "code",
   "execution_count": 6,
   "id": "24065941",
   "metadata": {
    "execution": {
     "iopub.execute_input": "2023-01-16T17:59:05.208478Z",
     "iopub.status.busy": "2023-01-16T17:59:05.207719Z",
     "iopub.status.idle": "2023-01-16T17:59:05.212953Z",
     "shell.execute_reply": "2023-01-16T17:59:05.211711Z"
    },
    "papermill": {
     "duration": 0.014645,
     "end_time": "2023-01-16T17:59:05.215396",
     "exception": false,
     "start_time": "2023-01-16T17:59:05.200751",
     "status": "completed"
    },
    "tags": []
   },
   "outputs": [],
   "source": [
    "# Global death per year\n",
    "\n",
    "query = \"\"\"\n",
    "SELECT EXTRACT (year FROM date) As year, SUM(new_cases) AS newly_infected, SUM(CAST(new_deaths AS int)) AS newLy_dead, SUM(CAST(new_deaths AS int))/ SUM(new_cases) * 100 AS global_death \n",
    "FROM Covid19.Covid_death \n",
    "WHERE continent is not NULL GROUP BY year ORDER BY year\n",
    "\"\"\""
   ]
  },
  {
   "cell_type": "code",
   "execution_count": 7,
   "id": "8e43d3bb",
   "metadata": {
    "execution": {
     "iopub.execute_input": "2023-01-16T17:59:05.227284Z",
     "iopub.status.busy": "2023-01-16T17:59:05.226820Z",
     "iopub.status.idle": "2023-01-16T17:59:05.232422Z",
     "shell.execute_reply": "2023-01-16T17:59:05.230979Z"
    },
    "papermill": {
     "duration": 0.014454,
     "end_time": "2023-01-16T17:59:05.234893",
     "exception": false,
     "start_time": "2023-01-16T17:59:05.220439",
     "status": "completed"
    },
    "tags": []
   },
   "outputs": [],
   "source": [
    "#New death in each continent\n",
    "\n",
    "query = \"\"\"\n",
    "SELECT continent, SUM(CAST(new_deaths as int)) as Totaldeath \n",
    "FROM Covid19.Covid_death \n",
    "WHERE continent is not Null AND location not in (\"world\", \" Europian union\", \"international\") GROUP BY continent ORDER BY TotalDeath Desc\n",
    "\"\"\""
   ]
  },
  {
   "cell_type": "markdown",
   "id": "d23c4738",
   "metadata": {
    "papermill": {
     "duration": 0.004802,
     "end_time": "2023-01-16T17:59:05.246369",
     "exception": false,
     "start_time": "2023-01-16T17:59:05.241567",
     "status": "completed"
    },
    "tags": []
   },
   "source": [
    "The csv files imported to Tableau public to visualize the date"
   ]
  },
  {
   "cell_type": "markdown",
   "id": "45968de2",
   "metadata": {
    "papermill": {
     "duration": 0.005004,
     "end_time": "2023-01-16T17:59:05.256790",
     "exception": false,
     "start_time": "2023-01-16T17:59:05.251786",
     "status": "completed"
    },
    "tags": []
   },
   "source": [
    "The data shows the total reported cases and total deaths.\n",
    "Although the percentage of death was around 2% in 2020, it deacreses to o.3% in 2022. Also, Europe has the highest new cases death rate"
   ]
  },
  {
   "cell_type": "code",
   "execution_count": 8,
   "id": "6c2d8c40",
   "metadata": {
    "execution": {
     "iopub.execute_input": "2023-01-16T17:59:05.270042Z",
     "iopub.status.busy": "2023-01-16T17:59:05.269591Z",
     "iopub.status.idle": "2023-01-16T17:59:05.281796Z",
     "shell.execute_reply": "2023-01-16T17:59:05.280653Z"
    },
    "papermill": {
     "duration": 0.021957,
     "end_time": "2023-01-16T17:59:05.284907",
     "exception": false,
     "start_time": "2023-01-16T17:59:05.262950",
     "status": "completed"
    },
    "tags": []
   },
   "outputs": [
    {
     "data": {
      "text/html": [
       "<div class='tableauPlaceholder' id='viz1671711126744' style='position: relative'><noscript><a href='#'><img alt='Dashboard 1 ' src='https:&#47;&#47;public.tableau.com&#47;static&#47;images&#47;Co&#47;Covid19DeathRate_16717058254040&#47;Dashboard1&#47;1_rss.png' style='border: none' /></a></noscript><object class='tableauViz'  style='display:none;'><param name='host_url' value='https%3A%2F%2Fpublic.tableau.com%2F' /> <param name='embed_code_version' value='3' /> <param name='site_root' value='' /><param name='name' value='Covid19DeathRate_16717058254040&#47;Dashboard1' /><param name='tabs' value='no' /><param name='toolbar' value='yes' /><param name='static_image' value='https:&#47;&#47;public.tableau.com&#47;static&#47;images&#47;Co&#47;Covid19DeathRate_16717058254040&#47;Dashboard1&#47;1.png' /> <param name='animate_transition' value='yes' /><param name='display_static_image' value='yes' /><param name='display_spinner' value='yes' /><param name='display_overlay' value='yes' /><param name='display_count' value='yes' /><param name='language' value='en-US' /></object></div>                <script type='text/javascript'>                    var divElement = document.getElementById('viz1671711126744');                    var vizElement = divElement.getElementsByTagName('object')[0];                    if ( divElement.offsetWidth > 800 ) { vizElement.style.width='1016px';vizElement.style.height='991px';} else if ( divElement.offsetWidth > 500 ) { vizElement.style.width='1016px';vizElement.style.height='991px';} else { vizElement.style.width='100%';vizElement.style.height='1127px';}                     var scriptElement = document.createElement('script');                    scriptElement.src = 'https://public.tableau.com/javascripts/api/viz_v1.js';                    vizElement.parentNode.insertBefore(scriptElement, vizElement);                </script>\n"
      ],
      "text/plain": [
       "<IPython.core.display.HTML object>"
      ]
     },
     "metadata": {},
     "output_type": "display_data"
    }
   ],
   "source": [
    "%%HTML\n",
    "<div class='tableauPlaceholder' id='viz1671711126744' style='position: relative'><noscript><a href='#'><img alt='Dashboard 1 ' src='https:&#47;&#47;public.tableau.com&#47;static&#47;images&#47;Co&#47;Covid19DeathRate_16717058254040&#47;Dashboard1&#47;1_rss.png' style='border: none' /></a></noscript><object class='tableauViz'  style='display:none;'><param name='host_url' value='https%3A%2F%2Fpublic.tableau.com%2F' /> <param name='embed_code_version' value='3' /> <param name='site_root' value='' /><param name='name' value='Covid19DeathRate_16717058254040&#47;Dashboard1' /><param name='tabs' value='no' /><param name='toolbar' value='yes' /><param name='static_image' value='https:&#47;&#47;public.tableau.com&#47;static&#47;images&#47;Co&#47;Covid19DeathRate_16717058254040&#47;Dashboard1&#47;1.png' /> <param name='animate_transition' value='yes' /><param name='display_static_image' value='yes' /><param name='display_spinner' value='yes' /><param name='display_overlay' value='yes' /><param name='display_count' value='yes' /><param name='language' value='en-US' /></object></div>                <script type='text/javascript'>                    var divElement = document.getElementById('viz1671711126744');                    var vizElement = divElement.getElementsByTagName('object')[0];                    if ( divElement.offsetWidth > 800 ) { vizElement.style.width='1016px';vizElement.style.height='991px';} else if ( divElement.offsetWidth > 500 ) { vizElement.style.width='1016px';vizElement.style.height='991px';} else { vizElement.style.width='100%';vizElement.style.height='1127px';}                     var scriptElement = document.createElement('script');                    scriptElement.src = 'https://public.tableau.com/javascripts/api/viz_v1.js';                    vizElement.parentNode.insertBefore(scriptElement, vizElement);                </script>"
   ]
  },
  {
   "cell_type": "markdown",
   "id": "60a9417b",
   "metadata": {
    "papermill": {
     "duration": 0.004878,
     "end_time": "2023-01-16T17:59:05.295112",
     "exception": false,
     "start_time": "2023-01-16T17:59:05.290234",
     "status": "completed"
    },
    "tags": []
   },
   "source": [
    "Next, I asked about the highest infection rate and top 10 countries "
   ]
  },
  {
   "cell_type": "code",
   "execution_count": 9,
   "id": "f70974a2",
   "metadata": {
    "execution": {
     "iopub.execute_input": "2023-01-16T17:59:05.307349Z",
     "iopub.status.busy": "2023-01-16T17:59:05.306752Z",
     "iopub.status.idle": "2023-01-16T17:59:05.312564Z",
     "shell.execute_reply": "2023-01-16T17:59:05.311243Z"
    },
    "papermill": {
     "duration": 0.014903,
     "end_time": "2023-01-16T17:59:05.315204",
     "exception": false,
     "start_time": "2023-01-16T17:59:05.300301",
     "status": "completed"
    },
    "tags": []
   },
   "outputs": [],
   "source": [
    "# Contries with highest infection rate\n",
    "\n",
    "query = \"\"\"\n",
    "SELECT location, population, MAX(total_cases) As highest_rate, MAX(total_cases/population) *100 AS totalcases_vs_population \n",
    "FROM Covid19.Covid_death \n",
    "WHERE continent is not NULL GROUP BY location, population ORDER BY totalcases_vs_population DESC\n",
    "\"\"\""
   ]
  },
  {
   "cell_type": "code",
   "execution_count": 10,
   "id": "03208044",
   "metadata": {
    "execution": {
     "iopub.execute_input": "2023-01-16T17:59:05.327626Z",
     "iopub.status.busy": "2023-01-16T17:59:05.327235Z",
     "iopub.status.idle": "2023-01-16T17:59:05.335601Z",
     "shell.execute_reply": "2023-01-16T17:59:05.334407Z"
    },
    "papermill": {
     "duration": 0.017893,
     "end_time": "2023-01-16T17:59:05.338380",
     "exception": false,
     "start_time": "2023-01-16T17:59:05.320487",
     "status": "completed"
    },
    "tags": []
   },
   "outputs": [
    {
     "data": {
      "text/html": [
       "<div class='tableauPlaceholder' id='viz1671711654400' style='position: relative'><noscript><a href='#'><img alt='Dashboard 2 ' src='https:&#47;&#47;public.tableau.com&#47;static&#47;images&#47;Co&#47;Covid19infectionrate&#47;Dashboard2&#47;1_rss.png' style='border: none' /></a></noscript><object class='tableauViz'  style='display:none;'><param name='host_url' value='https%3A%2F%2Fpublic.tableau.com%2F' /> <param name='embed_code_version' value='3' /> <param name='site_root' value='' /><param name='name' value='Covid19infectionrate&#47;Dashboard2' /><param name='tabs' value='no' /><param name='toolbar' value='yes' /><param name='static_image' value='https:&#47;&#47;public.tableau.com&#47;static&#47;images&#47;Co&#47;Covid19infectionrate&#47;Dashboard2&#47;1.png' /> <param name='animate_transition' value='yes' /><param name='display_static_image' value='yes' /><param name='display_spinner' value='yes' /><param name='display_overlay' value='yes' /><param name='display_count' value='yes' /><param name='language' value='en-US' /></object></div>                <script type='text/javascript'>                    var divElement = document.getElementById('viz1671711654400');                    var vizElement = divElement.getElementsByTagName('object')[0];                    if ( divElement.offsetWidth > 800 ) { vizElement.style.width='1016px';vizElement.style.height='991px';} else if ( divElement.offsetWidth > 500 ) { vizElement.style.width='1016px';vizElement.style.height='991px';} else { vizElement.style.width='100%';vizElement.style.height='777px';}                     var scriptElement = document.createElement('script');                    scriptElement.src = 'https://public.tableau.com/javascripts/api/viz_v1.js';                    vizElement.parentNode.insertBefore(scriptElement, vizElement);                </script>\n"
      ],
      "text/plain": [
       "<IPython.core.display.HTML object>"
      ]
     },
     "metadata": {},
     "output_type": "display_data"
    }
   ],
   "source": [
    "%%HTML\n",
    "<div class='tableauPlaceholder' id='viz1671711654400' style='position: relative'><noscript><a href='#'><img alt='Dashboard 2 ' src='https:&#47;&#47;public.tableau.com&#47;static&#47;images&#47;Co&#47;Covid19infectionrate&#47;Dashboard2&#47;1_rss.png' style='border: none' /></a></noscript><object class='tableauViz'  style='display:none;'><param name='host_url' value='https%3A%2F%2Fpublic.tableau.com%2F' /> <param name='embed_code_version' value='3' /> <param name='site_root' value='' /><param name='name' value='Covid19infectionrate&#47;Dashboard2' /><param name='tabs' value='no' /><param name='toolbar' value='yes' /><param name='static_image' value='https:&#47;&#47;public.tableau.com&#47;static&#47;images&#47;Co&#47;Covid19infectionrate&#47;Dashboard2&#47;1.png' /> <param name='animate_transition' value='yes' /><param name='display_static_image' value='yes' /><param name='display_spinner' value='yes' /><param name='display_overlay' value='yes' /><param name='display_count' value='yes' /><param name='language' value='en-US' /></object></div>                <script type='text/javascript'>                    var divElement = document.getElementById('viz1671711654400');                    var vizElement = divElement.getElementsByTagName('object')[0];                    if ( divElement.offsetWidth > 800 ) { vizElement.style.width='1016px';vizElement.style.height='991px';} else if ( divElement.offsetWidth > 500 ) { vizElement.style.width='1016px';vizElement.style.height='991px';} else { vizElement.style.width='100%';vizElement.style.height='777px';}                     var scriptElement = document.createElement('script');                    scriptElement.src = 'https://public.tableau.com/javascripts/api/viz_v1.js';                    vizElement.parentNode.insertBefore(scriptElement, vizElement);                </script>"
   ]
  },
  {
   "cell_type": "markdown",
   "id": "5c9843c7",
   "metadata": {
    "papermill": {
     "duration": 0.005335,
     "end_time": "2023-01-16T17:59:05.349854",
     "exception": false,
     "start_time": "2023-01-16T17:59:05.344519",
     "status": "completed"
    },
    "tags": []
   },
   "source": [
    "The countries with highest and lowest vaccination rate "
   ]
  },
  {
   "cell_type": "code",
   "execution_count": 11,
   "id": "beb88e00",
   "metadata": {
    "execution": {
     "iopub.execute_input": "2023-01-16T17:59:05.363801Z",
     "iopub.status.busy": "2023-01-16T17:59:05.362821Z",
     "iopub.status.idle": "2023-01-16T17:59:05.368745Z",
     "shell.execute_reply": "2023-01-16T17:59:05.367317Z"
    },
    "papermill": {
     "duration": 0.015751,
     "end_time": "2023-01-16T17:59:05.371588",
     "exception": false,
     "start_time": "2023-01-16T17:59:05.355837",
     "status": "completed"
    },
    "tags": []
   },
   "outputs": [],
   "source": [
    "# Using CTE to get the total vaccinated people per country\n",
    "\n",
    "query = \"\"\"\n",
    "WITH VacPopulation As ( SELECT continent, location, date, total_vaccinations, population, SUM(CAST (total_vaccinations As int)) OVER (PARTITION BY location ORDER BY location, date) As RollingVaccination \n",
    "FROM Covid19.Covid_death \n",
    "WHERE continent is not NULL --ORDER BY location ) SELECT , (RollingVaccination/population)100 As vaccination_per_population FROM VacPopulation ORDER BY location, date\n",
    "\"\"\""
   ]
  },
  {
   "cell_type": "code",
   "execution_count": 12,
   "id": "bde48403",
   "metadata": {
    "execution": {
     "iopub.execute_input": "2023-01-16T17:59:05.385168Z",
     "iopub.status.busy": "2023-01-16T17:59:05.383914Z",
     "iopub.status.idle": "2023-01-16T17:59:05.389447Z",
     "shell.execute_reply": "2023-01-16T17:59:05.388489Z"
    },
    "papermill": {
     "duration": 0.014995,
     "end_time": "2023-01-16T17:59:05.392056",
     "exception": false,
     "start_time": "2023-01-16T17:59:05.377061",
     "status": "completed"
    },
    "tags": []
   },
   "outputs": [],
   "source": [
    "#Contries with least vaccination rate\n",
    "\n",
    "\n",
    "query =\"\"\"\n",
    "WITH VacPopulation As ( SELECT continent, location, total_vaccinations, population, SUM(CAST (total_vaccinations As int)) OVER (PARTITION BY location ORDER BY location, date) As RollingVaccination \n",
    "FROM Covid19.Covid_death WHERE continent is not NULL\n",
    "\"\"\""
   ]
  },
  {
   "cell_type": "code",
   "execution_count": 13,
   "id": "fee9900e",
   "metadata": {
    "execution": {
     "iopub.execute_input": "2023-01-16T17:59:05.404950Z",
     "iopub.status.busy": "2023-01-16T17:59:05.404522Z",
     "iopub.status.idle": "2023-01-16T17:59:05.412956Z",
     "shell.execute_reply": "2023-01-16T17:59:05.411742Z"
    },
    "papermill": {
     "duration": 0.017975,
     "end_time": "2023-01-16T17:59:05.415474",
     "exception": false,
     "start_time": "2023-01-16T17:59:05.397499",
     "status": "completed"
    },
    "tags": []
   },
   "outputs": [
    {
     "data": {
      "text/html": [
       "<div class='tableauPlaceholder' id='viz1671712026938' style='position: relative'><noscript><a href='#'><img alt='Dashboard 3 ' src='https:&#47;&#47;public.tableau.com&#47;static&#47;images&#47;Co&#47;Covid19vaccination_16717062809880&#47;Dashboard3&#47;1_rss.png' style='border: none' /></a></noscript><object class='tableauViz'  style='display:none;'><param name='host_url' value='https%3A%2F%2Fpublic.tableau.com%2F' /> <param name='embed_code_version' value='3' /> <param name='site_root' value='' /><param name='name' value='Covid19vaccination_16717062809880&#47;Dashboard3' /><param name='tabs' value='no' /><param name='toolbar' value='yes' /><param name='static_image' value='https:&#47;&#47;public.tableau.com&#47;static&#47;images&#47;Co&#47;Covid19vaccination_16717062809880&#47;Dashboard3&#47;1.png' /> <param name='animate_transition' value='yes' /><param name='display_static_image' value='yes' /><param name='display_spinner' value='yes' /><param name='display_overlay' value='yes' /><param name='display_count' value='yes' /><param name='language' value='en-US' /></object></div>                <script type='text/javascript'>                    var divElement = document.getElementById('viz1671712026938');                    var vizElement = divElement.getElementsByTagName('object')[0];                    if ( divElement.offsetWidth > 800 ) { vizElement.style.width='1016px';vizElement.style.height='991px';} else if ( divElement.offsetWidth > 500 ) { vizElement.style.width='1016px';vizElement.style.height='991px';} else { vizElement.style.width='100%';vizElement.style.height='727px';}                     var scriptElement = document.createElement('script');                    scriptElement.src = 'https://public.tableau.com/javascripts/api/viz_v1.js';                    vizElement.parentNode.insertBefore(scriptElement, vizElement);                </script>\n"
      ],
      "text/plain": [
       "<IPython.core.display.HTML object>"
      ]
     },
     "metadata": {},
     "output_type": "display_data"
    }
   ],
   "source": [
    "%%HTML\n",
    "<div class='tableauPlaceholder' id='viz1671712026938' style='position: relative'><noscript><a href='#'><img alt='Dashboard 3 ' src='https:&#47;&#47;public.tableau.com&#47;static&#47;images&#47;Co&#47;Covid19vaccination_16717062809880&#47;Dashboard3&#47;1_rss.png' style='border: none' /></a></noscript><object class='tableauViz'  style='display:none;'><param name='host_url' value='https%3A%2F%2Fpublic.tableau.com%2F' /> <param name='embed_code_version' value='3' /> <param name='site_root' value='' /><param name='name' value='Covid19vaccination_16717062809880&#47;Dashboard3' /><param name='tabs' value='no' /><param name='toolbar' value='yes' /><param name='static_image' value='https:&#47;&#47;public.tableau.com&#47;static&#47;images&#47;Co&#47;Covid19vaccination_16717062809880&#47;Dashboard3&#47;1.png' /> <param name='animate_transition' value='yes' /><param name='display_static_image' value='yes' /><param name='display_spinner' value='yes' /><param name='display_overlay' value='yes' /><param name='display_count' value='yes' /><param name='language' value='en-US' /></object></div>                <script type='text/javascript'>                    var divElement = document.getElementById('viz1671712026938');                    var vizElement = divElement.getElementsByTagName('object')[0];                    if ( divElement.offsetWidth > 800 ) { vizElement.style.width='1016px';vizElement.style.height='991px';} else if ( divElement.offsetWidth > 500 ) { vizElement.style.width='1016px';vizElement.style.height='991px';} else { vizElement.style.width='100%';vizElement.style.height='727px';}                     var scriptElement = document.createElement('script');                    scriptElement.src = 'https://public.tableau.com/javascripts/api/viz_v1.js';                    vizElement.parentNode.insertBefore(scriptElement, vizElement);                </script>"
   ]
  }
 ],
 "metadata": {
  "kernelspec": {
   "display_name": "Python 3",
   "language": "python",
   "name": "python3"
  },
  "language_info": {
   "codemirror_mode": {
    "name": "ipython",
    "version": 3
   },
   "file_extension": ".py",
   "mimetype": "text/x-python",
   "name": "python",
   "nbconvert_exporter": "python",
   "pygments_lexer": "ipython3",
   "version": "3.7.12"
  },
  "papermill": {
   "default_parameters": {},
   "duration": 13.816264,
   "end_time": "2023-01-16T17:59:06.243909",
   "environment_variables": {},
   "exception": null,
   "input_path": "__notebook__.ipynb",
   "output_path": "__notebook__.ipynb",
   "parameters": {},
   "start_time": "2023-01-16T17:58:52.427645",
   "version": "2.3.4"
  }
 },
 "nbformat": 4,
 "nbformat_minor": 5
}
